{
 "cells": [
  {
   "cell_type": "markdown",
   "id": "1ff9b7b5",
   "metadata": {},
   "source": [
    "# Proyecto del Día 8 - Análisis de Datos Meteorológicos\n",
    "\n",
    "Este proyecto consiste en analizar un conjunto de datos meteorológicos utilizando Python y NumPy. \n",
    "El objetivo es aplicar las técnicas de manipulación de arrays, tratamiento de datos faltantes, \n",
    "y análisis estadístico básico en un conjunto de datos del mundo real.\n",
    "\n",
    "## Tareas a Realizar:\n",
    "1. Crear un DataFrame a partir de los datos del archivo **datos_meteorologicos.csv** provisto en esta lección.\n",
    "2. Realizar observaciones iniciales de los datos con Pandas.\n",
    "3. Convertir las columnas del DataFrame en arrays de NumPy.\n",
    "4. Identificar los datos faltantes en los arrays, y reemplazarlos por el promedio de los valores del respectivo array.\n",
    "5. Realizar análisis estadísticos básicos. Mínimamente se espera que puedas extraer la siguiente información de tus arrays:\n",
    "    * La temperatura promedio\n",
    "    * El total de precipitaciones\n",
    "    * La máxima humedad registrada\n",
    "    * La fecha más calurosa\n",
    "    * La fehca más fría\n",
    "6. Exportar los resultados a un nuevo archivo CSV.\n",
    "\n",
    "¡Mucha suerte con tu proyecto!\n"
   ]
  },
  {
   "cell_type": "markdown",
   "id": "6b416605",
   "metadata": {},
   "source": [
    "### 1. Crear un DataFrame a partir de los datos del archivo datos_meteorologicos.csv provisto en esta lección."
   ]
  },
  {
   "cell_type": "code",
   "execution_count": 3,
   "id": "4dabf813",
   "metadata": {},
   "outputs": [
    {
     "data": {
      "text/html": [
       "<div>\n",
       "<style scoped>\n",
       "    .dataframe tbody tr th:only-of-type {\n",
       "        vertical-align: middle;\n",
       "    }\n",
       "\n",
       "    .dataframe tbody tr th {\n",
       "        vertical-align: top;\n",
       "    }\n",
       "\n",
       "    .dataframe thead th {\n",
       "        text-align: right;\n",
       "    }\n",
       "</style>\n",
       "<table border=\"1\" class=\"dataframe\">\n",
       "  <thead>\n",
       "    <tr style=\"text-align: right;\">\n",
       "      <th></th>\n",
       "      <th>Fecha</th>\n",
       "      <th>Temperatura</th>\n",
       "      <th>Precipitación</th>\n",
       "      <th>Humedad</th>\n",
       "    </tr>\n",
       "  </thead>\n",
       "  <tbody>\n",
       "    <tr>\n",
       "      <th>0</th>\n",
       "      <td>01/01/2010</td>\n",
       "      <td>17.440675</td>\n",
       "      <td>10.957482</td>\n",
       "      <td>52.384637</td>\n",
       "    </tr>\n",
       "    <tr>\n",
       "      <th>1</th>\n",
       "      <td>02/01/2010</td>\n",
       "      <td>25.759468</td>\n",
       "      <td>5.315628</td>\n",
       "      <td>30.633530</td>\n",
       "    </tr>\n",
       "    <tr>\n",
       "      <th>2</th>\n",
       "      <td>03/01/2010</td>\n",
       "      <td>20.138169</td>\n",
       "      <td>15.317706</td>\n",
       "      <td>41.496715</td>\n",
       "    </tr>\n",
       "    <tr>\n",
       "      <th>3</th>\n",
       "      <td>04/01/2010</td>\n",
       "      <td>17.244159</td>\n",
       "      <td>13.151008</td>\n",
       "      <td>90.684704</td>\n",
       "    </tr>\n",
       "    <tr>\n",
       "      <th>4</th>\n",
       "      <td>05/01/2010</td>\n",
       "      <td>11.182740</td>\n",
       "      <td>16.413667</td>\n",
       "      <td>22.116422</td>\n",
       "    </tr>\n",
       "    <tr>\n",
       "      <th>...</th>\n",
       "      <td>...</td>\n",
       "      <td>...</td>\n",
       "      <td>...</td>\n",
       "      <td>...</td>\n",
       "    </tr>\n",
       "    <tr>\n",
       "      <th>5105</th>\n",
       "      <td>24/12/2023</td>\n",
       "      <td>-9.554692</td>\n",
       "      <td>12.700998</td>\n",
       "      <td>50.094533</td>\n",
       "    </tr>\n",
       "    <tr>\n",
       "      <th>5106</th>\n",
       "      <td>25/12/2023</td>\n",
       "      <td>2.837831</td>\n",
       "      <td>5.475686</td>\n",
       "      <td>92.456057</td>\n",
       "    </tr>\n",
       "    <tr>\n",
       "      <th>5107</th>\n",
       "      <td>26/12/2023</td>\n",
       "      <td>29.873597</td>\n",
       "      <td>4.615012</td>\n",
       "      <td>18.362847</td>\n",
       "    </tr>\n",
       "    <tr>\n",
       "      <th>5108</th>\n",
       "      <td>27/12/2023</td>\n",
       "      <td>NaN</td>\n",
       "      <td>NaN</td>\n",
       "      <td>NaN</td>\n",
       "    </tr>\n",
       "    <tr>\n",
       "      <th>5109</th>\n",
       "      <td>28/12/2023</td>\n",
       "      <td>37.308043</td>\n",
       "      <td>7.330510</td>\n",
       "      <td>50.646211</td>\n",
       "    </tr>\n",
       "  </tbody>\n",
       "</table>\n",
       "<p>5110 rows × 4 columns</p>\n",
       "</div>"
      ],
      "text/plain": [
       "           Fecha  Temperatura  Precipitación    Humedad\n",
       "0     01/01/2010    17.440675      10.957482  52.384637\n",
       "1     02/01/2010    25.759468       5.315628  30.633530\n",
       "2     03/01/2010    20.138169      15.317706  41.496715\n",
       "3     04/01/2010    17.244159      13.151008  90.684704\n",
       "4     05/01/2010    11.182740      16.413667  22.116422\n",
       "...          ...          ...            ...        ...\n",
       "5105  24/12/2023    -9.554692      12.700998  50.094533\n",
       "5106  25/12/2023     2.837831       5.475686  92.456057\n",
       "5107  26/12/2023    29.873597       4.615012  18.362847\n",
       "5108  27/12/2023          NaN            NaN        NaN\n",
       "5109  28/12/2023    37.308043       7.330510  50.646211\n",
       "\n",
       "[5110 rows x 4 columns]"
      ]
     },
     "execution_count": 3,
     "metadata": {},
     "output_type": "execute_result"
    }
   ],
   "source": [
    "#import of libraries\n",
    "import pandas as pd\n",
    "import numpy as np\n",
    "\n",
    "#read csv\n",
    "df=pd.read_csv(r'C:\\Users\\migue\\OneDrive\\Desktop\\curso de data science\\datos_meteorologicos.csv')\n",
    "df"
   ]
  },
  {
   "cell_type": "markdown",
   "id": "bd5ba486",
   "metadata": {},
   "source": [
    "### 2. Realizar observaciones iniciales de los datos con Pandas."
   ]
  },
  {
   "cell_type": "code",
   "execution_count": 9,
   "id": "f6fb247d",
   "metadata": {},
   "outputs": [
    {
     "data": {
      "text/plain": [
       "Fecha              0\n",
       "Temperatura      255\n",
       "Precipitación    255\n",
       "Humedad          255\n",
       "dtype: int64"
      ]
     },
     "execution_count": 9,
     "metadata": {},
     "output_type": "execute_result"
    }
   ],
   "source": [
    "#let's check for nan values and do some exploratory analysis\n",
    "df.isnull().sum()\n"
   ]
  },
  {
   "cell_type": "code",
   "execution_count": 11,
   "id": "f041072a-a358-4f0d-bde7-2101a59fb59c",
   "metadata": {},
   "outputs": [
    {
     "name": "stdout",
     "output_type": "stream",
     "text": [
      "<class 'pandas.core.frame.DataFrame'>\n",
      "RangeIndex: 5110 entries, 0 to 5109\n",
      "Data columns (total 4 columns):\n",
      " #   Column         Non-Null Count  Dtype  \n",
      "---  ------         --------------  -----  \n",
      " 0   Fecha          5110 non-null   object \n",
      " 1   Temperatura    4855 non-null   float64\n",
      " 2   Precipitación  4855 non-null   float64\n",
      " 3   Humedad        4855 non-null   float64\n",
      "dtypes: float64(3), object(1)\n",
      "memory usage: 159.8+ KB\n"
     ]
    }
   ],
   "source": [
    "df.info()"
   ]
  },
  {
   "cell_type": "code",
   "execution_count": 13,
   "id": "7d65e335-1a1b-45cb-8c01-a4aecc56332a",
   "metadata": {},
   "outputs": [
    {
     "data": {
      "text/html": [
       "<div>\n",
       "<style scoped>\n",
       "    .dataframe tbody tr th:only-of-type {\n",
       "        vertical-align: middle;\n",
       "    }\n",
       "\n",
       "    .dataframe tbody tr th {\n",
       "        vertical-align: top;\n",
       "    }\n",
       "\n",
       "    .dataframe thead th {\n",
       "        text-align: right;\n",
       "    }\n",
       "</style>\n",
       "<table border=\"1\" class=\"dataframe\">\n",
       "  <thead>\n",
       "    <tr style=\"text-align: right;\">\n",
       "      <th></th>\n",
       "      <th>Temperatura</th>\n",
       "      <th>Precipitación</th>\n",
       "      <th>Humedad</th>\n",
       "    </tr>\n",
       "  </thead>\n",
       "  <tbody>\n",
       "    <tr>\n",
       "      <th>count</th>\n",
       "      <td>4855.000000</td>\n",
       "      <td>4855.000000</td>\n",
       "      <td>4855.000000</td>\n",
       "    </tr>\n",
       "    <tr>\n",
       "      <th>mean</th>\n",
       "      <td>14.889296</td>\n",
       "      <td>9.901604</td>\n",
       "      <td>54.359061</td>\n",
       "    </tr>\n",
       "    <tr>\n",
       "      <th>std</th>\n",
       "      <td>14.440466</td>\n",
       "      <td>5.801842</td>\n",
       "      <td>26.096345</td>\n",
       "    </tr>\n",
       "    <tr>\n",
       "      <th>min</th>\n",
       "      <td>-9.996378</td>\n",
       "      <td>0.003008</td>\n",
       "      <td>10.014980</td>\n",
       "    </tr>\n",
       "    <tr>\n",
       "      <th>25%</th>\n",
       "      <td>2.651777</td>\n",
       "      <td>4.756907</td>\n",
       "      <td>31.866578</td>\n",
       "    </tr>\n",
       "    <tr>\n",
       "      <th>50%</th>\n",
       "      <td>14.693274</td>\n",
       "      <td>9.853698</td>\n",
       "      <td>54.254478</td>\n",
       "    </tr>\n",
       "    <tr>\n",
       "      <th>75%</th>\n",
       "      <td>27.381451</td>\n",
       "      <td>14.966997</td>\n",
       "      <td>77.029500</td>\n",
       "    </tr>\n",
       "    <tr>\n",
       "      <th>max</th>\n",
       "      <td>39.998201</td>\n",
       "      <td>19.999559</td>\n",
       "      <td>99.996582</td>\n",
       "    </tr>\n",
       "  </tbody>\n",
       "</table>\n",
       "</div>"
      ],
      "text/plain": [
       "       Temperatura  Precipitación      Humedad\n",
       "count  4855.000000    4855.000000  4855.000000\n",
       "mean     14.889296       9.901604    54.359061\n",
       "std      14.440466       5.801842    26.096345\n",
       "min      -9.996378       0.003008    10.014980\n",
       "25%       2.651777       4.756907    31.866578\n",
       "50%      14.693274       9.853698    54.254478\n",
       "75%      27.381451      14.966997    77.029500\n",
       "max      39.998201      19.999559    99.996582"
      ]
     },
     "execution_count": 13,
     "metadata": {},
     "output_type": "execute_result"
    }
   ],
   "source": [
    "df.describe()"
   ]
  },
  {
   "cell_type": "code",
   "execution_count": 17,
   "id": "afc3b64a-42f4-44a5-ac6a-8b30b3601ef7",
   "metadata": {},
   "outputs": [
    {
     "data": {
      "text/plain": [
       "0      2010-01-01\n",
       "1      2010-01-02\n",
       "2      2010-01-03\n",
       "3      2010-01-04\n",
       "4      2010-01-05\n",
       "          ...    \n",
       "5105   2023-12-24\n",
       "5106   2023-12-25\n",
       "5107   2023-12-26\n",
       "5108   2023-12-27\n",
       "5109   2023-12-28\n",
       "Name: Fecha, Length: 5110, dtype: datetime64[ns]"
      ]
     },
     "execution_count": 17,
     "metadata": {},
     "output_type": "execute_result"
    }
   ],
   "source": [
    "#we will set the correct type for Fecha colum, i.e. as a date\n",
    "df.Fecha=pd.to_datetime(df.Fecha, format='%d/%m/%Y')\n",
    "df.Fecha"
   ]
  },
  {
   "cell_type": "markdown",
   "id": "9a6f36ea",
   "metadata": {},
   "source": [
    "### 3. Convertir las columnas del DataFrame en arrays de NumPy."
   ]
  },
  {
   "cell_type": "code",
   "execution_count": 25,
   "id": "04ee9183",
   "metadata": {},
   "outputs": [
    {
     "data": {
      "text/plain": [
       "array([17.4406752 , 25.75946832, 20.1381688 , ..., 29.87359717,\n",
       "               nan, 37.30804318])"
      ]
     },
     "execution_count": 25,
     "metadata": {},
     "output_type": "execute_result"
    }
   ],
   "source": [
    "array_temperatura=df.Temperatura.to_numpy()\n",
    "array_temperatura"
   ]
  },
  {
   "cell_type": "code",
   "execution_count": 27,
   "id": "a71b24fe-9439-4fdb-9ea2-f954fb233f1f",
   "metadata": {},
   "outputs": [
    {
     "data": {
      "text/plain": [
       "array([10.957482  ,  5.31562765, 15.31770609, ...,  4.61501177,\n",
       "               nan,  7.33051023])"
      ]
     },
     "execution_count": 27,
     "metadata": {},
     "output_type": "execute_result"
    }
   ],
   "source": [
    "array_precipitacion=df.Precipitación.to_numpy()\n",
    "array_precipitacion"
   ]
  },
  {
   "cell_type": "code",
   "execution_count": 29,
   "id": "f469b910-0e94-40e9-82c0-adee062f7fb6",
   "metadata": {},
   "outputs": [
    {
     "data": {
      "text/plain": [
       "array([52.38463749, 30.63352983, 41.49671458, ..., 18.36284738,\n",
       "               nan, 50.64621058])"
      ]
     },
     "execution_count": 29,
     "metadata": {},
     "output_type": "execute_result"
    }
   ],
   "source": [
    "array_humedad=df.Humedad.to_numpy()\n",
    "array_humedad"
   ]
  },
  {
   "cell_type": "markdown",
   "id": "ea34bb17",
   "metadata": {},
   "source": [
    "### 4. Identificar los datos faltantes en los arrays, y reemplazarlos por el promedio de los valores del respectivo array."
   ]
  },
  {
   "cell_type": "code",
   "execution_count": 39,
   "id": "65f3ba49",
   "metadata": {},
   "outputs": [
    {
     "data": {
      "text/plain": [
       "array([17.4406752 , 25.75946832, 20.1381688 , ..., 29.87359717,\n",
       "       14.88929572, 37.30804318])"
      ]
     },
     "execution_count": 39,
     "metadata": {},
     "output_type": "execute_result"
    }
   ],
   "source": [
    "array_temperatura=np.where(np.isnan(array_temperatura), np.nanmean(array_temperatura),array_temperatura)\n",
    "array_temperatura"
   ]
  },
  {
   "cell_type": "code",
   "execution_count": 45,
   "id": "089c4d08-8133-419c-8d03-57b197424b58",
   "metadata": {},
   "outputs": [
    {
     "data": {
      "text/plain": [
       "array([10.957482  ,  5.31562765, 15.31770609, ...,  4.61501177,\n",
       "        9.9016036 ,  7.33051023])"
      ]
     },
     "execution_count": 45,
     "metadata": {},
     "output_type": "execute_result"
    }
   ],
   "source": [
    "array_precipitacion=np.where(np.isnan(array_precipitacion), np.nanmean(array_precipitacion),array_precipitacion)\n",
    "array_precipitacion"
   ]
  },
  {
   "cell_type": "code",
   "execution_count": 47,
   "id": "b055acd0-387d-4bae-b316-369f2fa7222e",
   "metadata": {},
   "outputs": [
    {
     "data": {
      "text/plain": [
       "array([52.38463749, 30.63352983, 41.49671458, ..., 18.36284738,\n",
       "       54.3590608 , 50.64621058])"
      ]
     },
     "execution_count": 47,
     "metadata": {},
     "output_type": "execute_result"
    }
   ],
   "source": [
    "array_humedad=np.where(np.isnan(array_humedad), np.nanmean(array_humedad),array_humedad)\n",
    "array_humedad"
   ]
  },
  {
   "cell_type": "markdown",
   "id": "e9cc83f2",
   "metadata": {},
   "source": [
    "### 5. Realizar análisis estadísticos básicos.\n",
    "\n",
    "##### Temperatura promedio"
   ]
  },
  {
   "cell_type": "code",
   "execution_count": 41,
   "id": "35631de2",
   "metadata": {},
   "outputs": [
    {
     "data": {
      "text/plain": [
       "14.889295723531713"
      ]
     },
     "execution_count": 41,
     "metadata": {},
     "output_type": "execute_result"
    }
   ],
   "source": [
    "meantemp=array_temperatura.mean()\n",
    "meantemp"
   ]
  },
  {
   "cell_type": "markdown",
   "id": "3d5b50ca",
   "metadata": {},
   "source": [
    "##### Total de precipitaciones"
   ]
  },
  {
   "cell_type": "code",
   "execution_count": 51,
   "id": "79cfdc90-514b-4142-bd9e-ca21f2fe5bbe",
   "metadata": {},
   "outputs": [
    {
     "data": {
      "text/plain": [
       "50597.19"
      ]
     },
     "execution_count": 51,
     "metadata": {},
     "output_type": "execute_result"
    }
   ],
   "source": [
    "totalrain=array_precipitacion.sum()\n",
    "totalrain.round(2)"
   ]
  },
  {
   "cell_type": "markdown",
   "id": "26b51e1e-9d1a-4c23-ab6f-11cd85f08959",
   "metadata": {},
   "source": [
    "##### Máxima humedad registrada"
   ]
  },
  {
   "cell_type": "code",
   "execution_count": 55,
   "id": "915e24c5",
   "metadata": {},
   "outputs": [
    {
     "data": {
      "text/plain": [
       "100.0"
      ]
     },
     "execution_count": 55,
     "metadata": {},
     "output_type": "execute_result"
    }
   ],
   "source": [
    "maxhumidity=array_humedad.max()\n",
    "maxhumidity.round()"
   ]
  },
  {
   "cell_type": "markdown",
   "id": "feabf8f5",
   "metadata": {},
   "source": [
    "##### Fecha más calurosa"
   ]
  },
  {
   "cell_type": "code",
   "execution_count": 57,
   "id": "bedde039",
   "metadata": {},
   "outputs": [
    {
     "data": {
      "text/plain": [
       "39.99820092713012"
      ]
     },
     "execution_count": 57,
     "metadata": {},
     "output_type": "execute_result"
    }
   ],
   "source": [
    "maxtemp=array_temperatura.max()\n",
    "maxtemp"
   ]
  },
  {
   "cell_type": "code",
   "execution_count": 111,
   "id": "5071b9aa-ac12-4b3a-8a02-8a622a287cb7",
   "metadata": {},
   "outputs": [
    {
     "data": {
      "text/plain": [
       "2749"
      ]
     },
     "execution_count": 111,
     "metadata": {},
     "output_type": "execute_result"
    }
   ],
   "source": [
    "index=list(np.where(df.Temperatura==maxtemp)[0])[0]\n",
    "index"
   ]
  },
  {
   "cell_type": "code",
   "execution_count": 113,
   "id": "db4c52de-5262-4f75-a1b8-5ef7a1995da0",
   "metadata": {},
   "outputs": [
    {
     "data": {
      "text/plain": [
       "Timestamp('2017-07-12 00:00:00')"
      ]
     },
     "execution_count": 113,
     "metadata": {},
     "output_type": "execute_result"
    }
   ],
   "source": [
    "hotestday=df.iloc[index]['Fecha']\n",
    "hotestday\n"
   ]
  },
  {
   "cell_type": "markdown",
   "id": "f30a99e0",
   "metadata": {},
   "source": [
    "##### Fecha más fría"
   ]
  },
  {
   "cell_type": "code",
   "execution_count": 115,
   "id": "68f820f0",
   "metadata": {},
   "outputs": [
    {
     "data": {
      "text/plain": [
       "-9.996377518075391"
      ]
     },
     "execution_count": 115,
     "metadata": {},
     "output_type": "execute_result"
    }
   ],
   "source": [
    "mintemp=array_temperatura.min()\n",
    "mintemp"
   ]
  },
  {
   "cell_type": "code",
   "execution_count": 117,
   "id": "3d238af9-2e59-494d-afaa-b87b78c16161",
   "metadata": {},
   "outputs": [
    {
     "data": {
      "text/plain": [
       "3856"
      ]
     },
     "execution_count": 117,
     "metadata": {},
     "output_type": "execute_result"
    }
   ],
   "source": [
    "index=list(np.where(df.Temperatura==mintemp)[0])[0]\n",
    "index"
   ]
  },
  {
   "cell_type": "code",
   "execution_count": 119,
   "id": "e505baab-cae7-4c3b-8eac-93e6c5d07a5f",
   "metadata": {},
   "outputs": [
    {
     "data": {
      "text/plain": [
       "Timestamp('2020-07-23 00:00:00')"
      ]
     },
     "execution_count": 119,
     "metadata": {},
     "output_type": "execute_result"
    }
   ],
   "source": [
    "coldestday=df.iloc[index]['Fecha']\n",
    "coldestday"
   ]
  },
  {
   "cell_type": "markdown",
   "id": "ff7d173c",
   "metadata": {},
   "source": [
    "### 6. Exportar los resultados a un nuevo archivo CSV."
   ]
  },
  {
   "cell_type": "code",
   "execution_count": 131,
   "id": "e0cdfaee",
   "metadata": {},
   "outputs": [
    {
     "data": {
      "text/html": [
       "<div>\n",
       "<style scoped>\n",
       "    .dataframe tbody tr th:only-of-type {\n",
       "        vertical-align: middle;\n",
       "    }\n",
       "\n",
       "    .dataframe tbody tr th {\n",
       "        vertical-align: top;\n",
       "    }\n",
       "\n",
       "    .dataframe thead th {\n",
       "        text-align: right;\n",
       "    }\n",
       "</style>\n",
       "<table border=\"1\" class=\"dataframe\">\n",
       "  <thead>\n",
       "    <tr style=\"text-align: right;\">\n",
       "      <th></th>\n",
       "      <th>Measurement</th>\n",
       "      <th>Value</th>\n",
       "    </tr>\n",
       "  </thead>\n",
       "  <tbody>\n",
       "    <tr>\n",
       "      <th>0</th>\n",
       "      <td>Mean temp</td>\n",
       "      <td>14.889296</td>\n",
       "    </tr>\n",
       "    <tr>\n",
       "      <th>1</th>\n",
       "      <td>Total rain</td>\n",
       "      <td>50597.194389</td>\n",
       "    </tr>\n",
       "    <tr>\n",
       "      <th>2</th>\n",
       "      <td>Maximun humidity</td>\n",
       "      <td>99.996582</td>\n",
       "    </tr>\n",
       "    <tr>\n",
       "      <th>3</th>\n",
       "      <td>Hotest day</td>\n",
       "      <td>2017-07-12 00:00:00</td>\n",
       "    </tr>\n",
       "    <tr>\n",
       "      <th>4</th>\n",
       "      <td>Coldest day</td>\n",
       "      <td>2020-07-23 00:00:00</td>\n",
       "    </tr>\n",
       "  </tbody>\n",
       "</table>\n",
       "</div>"
      ],
      "text/plain": [
       "        Measurement                Value\n",
       "0         Mean temp            14.889296\n",
       "1        Total rain         50597.194389\n",
       "2  Maximun humidity            99.996582\n",
       "3        Hotest day  2017-07-12 00:00:00\n",
       "4       Coldest day  2020-07-23 00:00:00"
      ]
     },
     "execution_count": 131,
     "metadata": {},
     "output_type": "execute_result"
    }
   ],
   "source": [
    "#creation of a data frame with results \n",
    "\n",
    "\n",
    "results=pd.DataFrame({ 'Measurement':['Mean temp', 'Total rain', 'Maximun humidity', 'Hotest day', \n",
    "                         'Coldest day'], 'Value' : [ meantemp, totalrain, maxhumidity, hotestday, coldestday]  })\n",
    "results"
   ]
  },
  {
   "cell_type": "code",
   "execution_count": null,
   "id": "7753329a-0456-40b9-8d01-9f4db37751e5",
   "metadata": {},
   "outputs": [],
   "source": [
    "resultados.to_csv('results.csv',index=False)"
   ]
  }
 ],
 "metadata": {
  "kernelspec": {
   "display_name": "Python 3 (ipykernel)",
   "language": "python",
   "name": "python3"
  },
  "language_info": {
   "codemirror_mode": {
    "name": "ipython",
    "version": 3
   },
   "file_extension": ".py",
   "mimetype": "text/x-python",
   "name": "python",
   "nbconvert_exporter": "python",
   "pygments_lexer": "ipython3",
   "version": "3.12.7"
  }
 },
 "nbformat": 4,
 "nbformat_minor": 5
}
