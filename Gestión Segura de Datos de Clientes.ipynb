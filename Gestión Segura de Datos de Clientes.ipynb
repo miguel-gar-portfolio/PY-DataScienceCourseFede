{
 "cells": [
  {
   "cell_type": "markdown",
   "id": "0c48c59c",
   "metadata": {},
   "source": [
    "# Proyecto del Día 14 - Gestión Segura de Datos de Clientes\n",
    "\n",
    "Este notebook implementa un sistema básico de gestión y análisis de datos de clientes, aplicando técnicas de pseudonimización, anonimización y balanceo de datos.\n",
    "\n",
    "\n",
    "## Objetivo\n",
    "El proyecto consiste en desarrollar un sistema de gestión y análisis de datos de clientes que implemente técnicas de pseudonimización, anonimización y balanceo de datos para proteger la privacidad de los usuarios y asegurar un análisis equitativo.\n",
    "\n",
    "\n",
    "## Consignas del Proyecto\n",
    "1. Cargar los datos de clientes provistos en un archivo CSV.\n",
    "2. Aplicar técnicas de anonimización al campo `direccion`, `edad` y `salario` para proteger la identidad de los clientes.\n",
    "3. Aplicar técnicas de pseudonimización al campo `nombre`.\n",
    "4. Implementar una función de balanceo de datos para asegurar la representación equitativa de diversas categorías en el análisis posterior.\n",
    "5. Realizar un análisis simple de los datos para identificar tendencias o patrones que podrían ser útiles para decisiones de negocios o marketing.\n",
    "\n",
    "\n",
    "Este proyecto te permitirá aplicar prácticas esenciales de privacidad de datos y técnicas de manipulación de datos en un entorno práctico, preparándote para desafíos similares en entornos profesionales.\n",
    "\n",
    "¡Mucha suerte y que te diviertas!"
   ]
  },
  {
   "cell_type": "markdown",
   "id": "5addb701-a675-4d6f-a0d1-a9d96b67470b",
   "metadata": {},
   "source": [
    "# Preparación de datos"
   ]
  },
  {
   "cell_type": "code",
   "execution_count": 64,
   "id": "288a2768",
   "metadata": {},
   "outputs": [],
   "source": [
    "import pandas as pd\n",
    "import numpy as np\n",
    "import uuid\n",
    "from sklearn.utils import resample"
   ]
  },
  {
   "cell_type": "code",
   "execution_count": 42,
   "id": "1f278212-ac41-40e5-9cfe-5b93613a1ef7",
   "metadata": {},
   "outputs": [],
   "source": [
    "data = pd.DataFrame({\n",
    "    'nombre': ['Ana', 'Juan', 'Luis', 'Pedro', 'Silvina'],\n",
    "    'email': ['ana@ejemplo.com', 'juan@ejemplo.com', 'luis@ejemplo.com', 'pedro@ejemplo.com', 'silvina@ejemplo.com'],\n",
    "    'edad': [22, 37, 15, 49, 63],\n",
    "    'direccion': ['Ciudad A', 'Ciudad B', 'Ciudad C', 'Ciudad D', 'Ciudad E'],\n",
    "    'salario': [55000, 34000, 76000, 51000, 62000],\n",
    "    'banco': ['Banco 1', 'Banco 3', 'Banco 1', 'Banco 2', 'Banco 3']\n",
    "})"
   ]
  },
  {
   "cell_type": "markdown",
   "id": "dea94cde-7bc1-4aeb-84a8-e2000950852e",
   "metadata": {},
   "source": [
    "# Anonimización y pseudoanonimización"
   ]
  },
  {
   "cell_type": "code",
   "execution_count": 45,
   "id": "989b882b-71ca-4ef2-924d-362ff0d827c3",
   "metadata": {},
   "outputs": [],
   "source": [
    "ruido = np.random.normal(0, 100, size=data['salario'].shape)\n",
    "data['salario']+=ruido "
   ]
  },
  {
   "cell_type": "code",
   "execution_count": 47,
   "id": "d3f12c1d-4b9f-40f3-8daf-d139c7424e96",
   "metadata": {},
   "outputs": [],
   "source": [
    "data['edad'] = (data['edad'] // 10) * 10"
   ]
  },
  {
   "cell_type": "code",
   "execution_count": 49,
   "id": "ebfbd14d-56d5-4afe-98e2-edbb5be8eb85",
   "metadata": {},
   "outputs": [],
   "source": [
    "data['direccion']=np.random.permutation(data['direccion'])"
   ]
  },
  {
   "cell_type": "code",
   "execution_count": 51,
   "id": "d9331b8d-18a9-404e-9fb1-b28003396ec6",
   "metadata": {},
   "outputs": [],
   "source": [
    "id_pseudo = []\n",
    "for n in range(len(data)):\n",
    "    id_pseudo.append(str(uuid.uuid4()))"
   ]
  },
  {
   "cell_type": "code",
   "execution_count": 53,
   "id": "7c1382cd-b422-40fc-812a-10ba423f1006",
   "metadata": {},
   "outputs": [],
   "source": [
    "data['id_pseudo']=id_pseudo"
   ]
  },
  {
   "cell_type": "code",
   "execution_count": 59,
   "id": "a5879804-927c-47c3-b354-f4f015cdad3a",
   "metadata": {},
   "outputs": [],
   "source": [
    "data = data.drop(columns=['nombre'])"
   ]
  },
  {
   "cell_type": "code",
   "execution_count": 61,
   "id": "0b1a876f-8869-4785-a6d0-347932672035",
   "metadata": {},
   "outputs": [
    {
     "data": {
      "text/html": [
       "<div>\n",
       "<style scoped>\n",
       "    .dataframe tbody tr th:only-of-type {\n",
       "        vertical-align: middle;\n",
       "    }\n",
       "\n",
       "    .dataframe tbody tr th {\n",
       "        vertical-align: top;\n",
       "    }\n",
       "\n",
       "    .dataframe thead th {\n",
       "        text-align: right;\n",
       "    }\n",
       "</style>\n",
       "<table border=\"1\" class=\"dataframe\">\n",
       "  <thead>\n",
       "    <tr style=\"text-align: right;\">\n",
       "      <th></th>\n",
       "      <th>email</th>\n",
       "      <th>edad</th>\n",
       "      <th>direccion</th>\n",
       "      <th>salario</th>\n",
       "      <th>banco</th>\n",
       "      <th>id_pseudo</th>\n",
       "    </tr>\n",
       "  </thead>\n",
       "  <tbody>\n",
       "    <tr>\n",
       "      <th>0</th>\n",
       "      <td>ana@ejemplo.com</td>\n",
       "      <td>20</td>\n",
       "      <td>Ciudad B</td>\n",
       "      <td>55064.046151</td>\n",
       "      <td>Banco 1</td>\n",
       "      <td>dcfe005c-9bb8-4752-8b00-5b0fcd1b1779</td>\n",
       "    </tr>\n",
       "    <tr>\n",
       "      <th>1</th>\n",
       "      <td>juan@ejemplo.com</td>\n",
       "      <td>30</td>\n",
       "      <td>Ciudad D</td>\n",
       "      <td>33939.696732</td>\n",
       "      <td>Banco 3</td>\n",
       "      <td>d66ac25f-1705-4127-bb02-c63f822e9424</td>\n",
       "    </tr>\n",
       "    <tr>\n",
       "      <th>2</th>\n",
       "      <td>luis@ejemplo.com</td>\n",
       "      <td>10</td>\n",
       "      <td>Ciudad E</td>\n",
       "      <td>75902.386948</td>\n",
       "      <td>Banco 1</td>\n",
       "      <td>2c17bcdf-8c9e-4756-a80b-b8076c70448d</td>\n",
       "    </tr>\n",
       "    <tr>\n",
       "      <th>3</th>\n",
       "      <td>pedro@ejemplo.com</td>\n",
       "      <td>40</td>\n",
       "      <td>Ciudad A</td>\n",
       "      <td>51077.659767</td>\n",
       "      <td>Banco 2</td>\n",
       "      <td>777605e5-2754-4e3d-ab41-0e66ef763e1c</td>\n",
       "    </tr>\n",
       "    <tr>\n",
       "      <th>4</th>\n",
       "      <td>silvina@ejemplo.com</td>\n",
       "      <td>60</td>\n",
       "      <td>Ciudad C</td>\n",
       "      <td>62017.550031</td>\n",
       "      <td>Banco 3</td>\n",
       "      <td>d65d123f-0541-4eaa-b55b-0ef357826e8c</td>\n",
       "    </tr>\n",
       "  </tbody>\n",
       "</table>\n",
       "</div>"
      ],
      "text/plain": [
       "                 email  edad direccion       salario    banco  \\\n",
       "0      ana@ejemplo.com    20  Ciudad B  55064.046151  Banco 1   \n",
       "1     juan@ejemplo.com    30  Ciudad D  33939.696732  Banco 3   \n",
       "2     luis@ejemplo.com    10  Ciudad E  75902.386948  Banco 1   \n",
       "3    pedro@ejemplo.com    40  Ciudad A  51077.659767  Banco 2   \n",
       "4  silvina@ejemplo.com    60  Ciudad C  62017.550031  Banco 3   \n",
       "\n",
       "                              id_pseudo  \n",
       "0  dcfe005c-9bb8-4752-8b00-5b0fcd1b1779  \n",
       "1  d66ac25f-1705-4127-bb02-c63f822e9424  \n",
       "2  2c17bcdf-8c9e-4756-a80b-b8076c70448d  \n",
       "3  777605e5-2754-4e3d-ab41-0e66ef763e1c  \n",
       "4  d65d123f-0541-4eaa-b55b-0ef357826e8c  "
      ]
     },
     "execution_count": 61,
     "metadata": {},
     "output_type": "execute_result"
    }
   ],
   "source": [
    "data"
   ]
  },
  {
   "cell_type": "markdown",
   "id": "b53c52cd-155d-46fa-825c-d49b4ed83770",
   "metadata": {},
   "source": [
    "# Balanceo "
   ]
  },
  {
   "cell_type": "code",
   "execution_count": 66,
   "id": "3dc74236-c911-4ca7-98aa-2dc05de2b970",
   "metadata": {},
   "outputs": [],
   "source": [
    "data = pd.DataFrame({\n",
    "    'edad': [22, 45, 36, 29, 58],\n",
    "    'género': ['F', 'M', 'M', 'F', 'M'],\n",
    "    'contratado': [1, 0, 1, 0, 1]\n",
    "})"
   ]
  },
  {
   "cell_type": "code",
   "execution_count": 68,
   "id": "6b6b311e-4580-49be-9bbb-a618b1abe656",
   "metadata": {},
   "outputs": [],
   "source": [
    "agrupado = data.groupby('género')"
   ]
  },
  {
   "cell_type": "code",
   "execution_count": 72,
   "id": "2a9f5210-d49f-4e89-98bc-da0e4ca75ce9",
   "metadata": {},
   "outputs": [
    {
     "data": {
      "text/plain": [
       "<pandas.core.groupby.generic.DataFrameGroupBy object at 0x0000020545F9AB10>"
      ]
     },
     "execution_count": 72,
     "metadata": {},
     "output_type": "execute_result"
    }
   ],
   "source": [
    "for nombre, grupo in agrupado:\n",
    "    grupo_balanceado = resample(grupo, \n",
    "                               replace=True,\n",
    "                               n_samples=10,\n",
    "                               random_state=123)\n",
    "    data_balanceada = pd.concat([data_balanceada, grupo_balanceado])"
   ]
  }
 ],
 "metadata": {
  "kernelspec": {
   "display_name": "Python 3 (ipykernel)",
   "language": "python",
   "name": "python3"
  },
  "language_info": {
   "codemirror_mode": {
    "name": "ipython",
    "version": 3
   },
   "file_extension": ".py",
   "mimetype": "text/x-python",
   "name": "python",
   "nbconvert_exporter": "python",
   "pygments_lexer": "ipython3",
   "version": "3.12.7"
  }
 },
 "nbformat": 4,
 "nbformat_minor": 5
}
