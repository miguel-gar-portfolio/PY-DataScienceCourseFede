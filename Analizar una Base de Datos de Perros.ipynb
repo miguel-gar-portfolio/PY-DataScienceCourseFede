{
 "cells": [
  {
   "cell_type": "markdown",
   "id": "5e2326e5",
   "metadata": {},
   "source": [
    "# Proyecto del Día 18 - Analizar una Base de Datos de Perros\n",
    "\n",
    "Hoy vamos a realizar un proyecto muy entretenido, que consiste en conseguir un dataset sobre razas de perros, que se encuentra alojada en el sitio [The Dog Api](https://thedogapi.com/).\n",
    "\n",
    "Tu misión consiste en lograr obtener un dataset que contiene información sobre razas de perro (\"breeds\"), y crear visualizaciones que permitan responder algunas preguntas sobre la **expectativa de vida**, y el **temperamento** más frecuente entre todas las **razas**.\n",
    "\n",
    "\n",
    "### Preguntas a responder\n",
    "1. ¿Cuál es la esperanza de vida (en años) más frecuente entre todas las razas de perro?\n",
    "\n",
    "### Pasos sugeridos para llegar hasta la respuesta\n",
    "1. Descarga las **librerías** necesarias.\n",
    "2. Explora el sitio [https://thedogapi.com/](https://thedogapi.com/) para identificar dónde y cómo se describe el funcionamiento de su API. Identifica la **API específica** con información sobre **razas** (\"breeds\"). Una vez que lo hagas, implementa la API y guarda esos datos en un **DataFrame** de Pandas.\n",
    "*Nota: como todo sitio nuevo al que enfrentes, deberás resolver desafíos particulares. En este caso presta atención a las instrucciones que mencionan algo sobre cómo usar los mismos protocolos que se utilizan en la API de gatos de la misma organización*.\n",
    "3. Realiza un **análisis exploratorio** para conocer la estrucutra y calidad de tus datos.\n",
    "4. Implementa la **limpieza de datos** que consideres necesaria.\n",
    "5. Crea los **gráficos** que creas necesarios para poder visualizar con claridad la respuesta a las preguntas.\n",
    "\n",
    "Te deseo mucho aprendizaje, pero sobre todo, mucha diversión.\n",
    "¡Adelante!"
   ]
  },
  {
   "cell_type": "markdown",
   "id": "a4c74928-a800-47c6-a6ab-c2f4369b9dc8",
   "metadata": {},
   "source": [
    "## INSTALACION DE PAQUETES "
   ]
  },
  {
   "cell_type": "code",
   "execution_count": 147,
   "id": "fe6517f6",
   "metadata": {},
   "outputs": [],
   "source": [
    "import requests\n",
    "import pandas as pd\n",
    "import numpy as np \n",
    "from IPython.display import Image, display\n",
    "import matplotlib.pyplot as plt\n",
    "import seaborn as sns"
   ]
  },
  {
   "cell_type": "markdown",
   "id": "0a009e02-4fe0-4685-8c6d-d60753a18d65",
   "metadata": {},
   "source": [
    "## EJEMPLO DE EXTRACCIÓN DE API CON PARÁMETROS"
   ]
  },
  {
   "cell_type": "markdown",
   "id": "98cc25cf-4b07-4fb0-8a6d-e25795b41b62",
   "metadata": {},
   "source": [
    "### DECLARACION DE PARAMETROS"
   ]
  },
  {
   "cell_type": "code",
   "execution_count": 21,
   "id": "269bf6e3-3435-4e18-bdf0-8615def65035",
   "metadata": {},
   "outputs": [],
   "source": [
    "url = \"https://api.thecatapi.com/v1/images/search\"\n",
    "params={ \"x-api-key\":\"live_a1zkzhe66JZ3Mi1tk4A67UzwfdAY4UEBienzwFV6WOlFv9nblF2oJJVodP9SFUXW\",\n",
    "            \"limit\":20, \"has_breeds\" : 1}"
   ]
  },
  {
   "cell_type": "markdown",
   "id": "b725e972-db3a-498d-8dc2-a5a7c8fc0739",
   "metadata": {},
   "source": [
    "### OBTENCION DE DATOS "
   ]
  },
  {
   "cell_type": "code",
   "execution_count": 17,
   "id": "ea404d45-3a21-449b-8036-29fe10f18f42",
   "metadata": {},
   "outputs": [
    {
     "data": {
      "text/plain": [
       "[{'id': 'wgoLPWPZQ',\n",
       "  'url': 'https://cdn2.thecatapi.com/images/wgoLPWPZQ.jpg',\n",
       "  'width': 1200,\n",
       "  'height': 931},\n",
       " {'id': 'HT902S6ra',\n",
       "  'url': 'https://cdn2.thecatapi.com/images/HT902S6ra.jpg',\n",
       "  'width': 1600,\n",
       "  'height': 1200},\n",
       " {'id': 'Rscv6E1c5',\n",
       "  'url': 'https://cdn2.thecatapi.com/images/Rscv6E1c5.jpg',\n",
       "  'width': 1200,\n",
       "  'height': 900},\n",
       " {'id': 'uk0SrrBbQ',\n",
       "  'url': 'https://cdn2.thecatapi.com/images/uk0SrrBbQ.jpg',\n",
       "  'width': 2329,\n",
       "  'height': 2097},\n",
       " {'id': 'f_NV_6GZQ',\n",
       "  'url': 'https://cdn2.thecatapi.com/images/f_NV_6GZQ.jpg',\n",
       "  'width': 1200,\n",
       "  'height': 900},\n",
       " {'id': 'qzmA6FAUs',\n",
       "  'url': 'https://cdn2.thecatapi.com/images/qzmA6FAUs.jpg',\n",
       "  'width': 1800,\n",
       "  'height': 947},\n",
       " {'id': 'e7-hS3gey',\n",
       "  'url': 'https://cdn2.thecatapi.com/images/e7-hS3gey.jpg',\n",
       "  'width': 1400,\n",
       "  'height': 1050},\n",
       " {'id': 'S1CN1w6Bt',\n",
       "  'url': 'https://cdn2.thecatapi.com/images/S1CN1w6Bt.jpg',\n",
       "  'width': 1741,\n",
       "  'height': 2327},\n",
       " {'id': 'd8sbdRtLJ',\n",
       "  'url': 'https://cdn2.thecatapi.com/images/d8sbdRtLJ.jpg',\n",
       "  'width': 1050,\n",
       "  'height': 1126},\n",
       " {'id': 'sWfuXbpSS',\n",
       "  'url': 'https://cdn2.thecatapi.com/images/sWfuXbpSS.jpg',\n",
       "  'width': 1446,\n",
       "  'height': 1168}]"
      ]
     },
     "execution_count": 17,
     "metadata": {},
     "output_type": "execute_result"
    }
   ],
   "source": [
    "respuesta = requests.get(url,params)\n",
    "data = respuesta.json()\n",
    "data"
   ]
  },
  {
   "cell_type": "markdown",
   "id": "578f0bb8-5810-47d8-984d-8f682261041e",
   "metadata": {},
   "source": [
    "## API DE BREEDS"
   ]
  },
  {
   "cell_type": "markdown",
   "id": "3ebdacc2-406d-4fbb-a527-72766559ca6c",
   "metadata": {},
   "source": [
    "### OBTENCION DE DATOS "
   ]
  },
  {
   "cell_type": "code",
   "execution_count": 28,
   "id": "52300c86-8676-4186-ad1c-3538c24851a9",
   "metadata": {},
   "outputs": [],
   "source": [
    "url = \"https://api.thedogapi.com/v1/breeds\""
   ]
  },
  {
   "cell_type": "code",
   "execution_count": 30,
   "id": "c77bb9be-45b7-43d8-b93a-16ace4ff9761",
   "metadata": {},
   "outputs": [],
   "source": [
    "# Implementación de la API\n",
    "respuesta = requests.get(url)\n",
    "data = respuesta.json()\n",
    "df = pd.DataFrame(data)"
   ]
  },
  {
   "cell_type": "markdown",
   "id": "694526e8-0bad-4065-ad37-a550377dd1c5",
   "metadata": {},
   "source": [
    "### ANÁLISIS DESCRIPTIVO "
   ]
  },
  {
   "cell_type": "code",
   "execution_count": 33,
   "id": "06aaf245-5f8a-402e-a241-036ffbc40112",
   "metadata": {},
   "outputs": [
    {
     "data": {
      "text/html": [
       "<div>\n",
       "<style scoped>\n",
       "    .dataframe tbody tr th:only-of-type {\n",
       "        vertical-align: middle;\n",
       "    }\n",
       "\n",
       "    .dataframe tbody tr th {\n",
       "        vertical-align: top;\n",
       "    }\n",
       "\n",
       "    .dataframe thead th {\n",
       "        text-align: right;\n",
       "    }\n",
       "</style>\n",
       "<table border=\"1\" class=\"dataframe\">\n",
       "  <thead>\n",
       "    <tr style=\"text-align: right;\">\n",
       "      <th></th>\n",
       "      <th>weight</th>\n",
       "      <th>height</th>\n",
       "      <th>id</th>\n",
       "      <th>name</th>\n",
       "      <th>bred_for</th>\n",
       "      <th>breed_group</th>\n",
       "      <th>life_span</th>\n",
       "      <th>temperament</th>\n",
       "      <th>origin</th>\n",
       "      <th>reference_image_id</th>\n",
       "      <th>country_code</th>\n",
       "      <th>description</th>\n",
       "      <th>history</th>\n",
       "    </tr>\n",
       "  </thead>\n",
       "  <tbody>\n",
       "    <tr>\n",
       "      <th>0</th>\n",
       "      <td>{'imperial': '6 - 13', 'metric': '3 - 6'}</td>\n",
       "      <td>{'imperial': '9 - 11.5', 'metric': '23 - 29'}</td>\n",
       "      <td>1</td>\n",
       "      <td>Affenpinscher</td>\n",
       "      <td>Small rodent hunting, lapdog</td>\n",
       "      <td>Toy</td>\n",
       "      <td>10 - 12 years</td>\n",
       "      <td>Stubborn, Curious, Playful, Adventurous, Activ...</td>\n",
       "      <td>Germany, France</td>\n",
       "      <td>BJa4kxc4X</td>\n",
       "      <td>NaN</td>\n",
       "      <td>NaN</td>\n",
       "      <td>NaN</td>\n",
       "    </tr>\n",
       "    <tr>\n",
       "      <th>1</th>\n",
       "      <td>{'imperial': '50 - 60', 'metric': '23 - 27'}</td>\n",
       "      <td>{'imperial': '25 - 27', 'metric': '64 - 69'}</td>\n",
       "      <td>2</td>\n",
       "      <td>Afghan Hound</td>\n",
       "      <td>Coursing and hunting</td>\n",
       "      <td>Hound</td>\n",
       "      <td>10 - 13 years</td>\n",
       "      <td>Aloof, Clownish, Dignified, Independent, Happy</td>\n",
       "      <td>Afghanistan, Iran, Pakistan</td>\n",
       "      <td>hMyT4CDXR</td>\n",
       "      <td>AG</td>\n",
       "      <td>NaN</td>\n",
       "      <td>NaN</td>\n",
       "    </tr>\n",
       "    <tr>\n",
       "      <th>2</th>\n",
       "      <td>{'imperial': '44 - 66', 'metric': '20 - 30'}</td>\n",
       "      <td>{'imperial': '30', 'metric': '76'}</td>\n",
       "      <td>3</td>\n",
       "      <td>African Hunting Dog</td>\n",
       "      <td>A wild pack animal</td>\n",
       "      <td>NaN</td>\n",
       "      <td>11 years</td>\n",
       "      <td>Wild, Hardworking, Dutiful</td>\n",
       "      <td></td>\n",
       "      <td>rkiByec47</td>\n",
       "      <td>NaN</td>\n",
       "      <td>NaN</td>\n",
       "      <td>NaN</td>\n",
       "    </tr>\n",
       "    <tr>\n",
       "      <th>3</th>\n",
       "      <td>{'imperial': '40 - 65', 'metric': '18 - 29'}</td>\n",
       "      <td>{'imperial': '21 - 23', 'metric': '53 - 58'}</td>\n",
       "      <td>4</td>\n",
       "      <td>Airedale Terrier</td>\n",
       "      <td>Badger, otter hunting</td>\n",
       "      <td>Terrier</td>\n",
       "      <td>10 - 13 years</td>\n",
       "      <td>Outgoing, Friendly, Alert, Confident, Intellig...</td>\n",
       "      <td>United Kingdom, England</td>\n",
       "      <td>1-7cgoZSh</td>\n",
       "      <td>NaN</td>\n",
       "      <td>NaN</td>\n",
       "      <td>NaN</td>\n",
       "    </tr>\n",
       "    <tr>\n",
       "      <th>4</th>\n",
       "      <td>{'imperial': '90 - 120', 'metric': '41 - 54'}</td>\n",
       "      <td>{'imperial': '28 - 34', 'metric': '71 - 86'}</td>\n",
       "      <td>5</td>\n",
       "      <td>Akbash Dog</td>\n",
       "      <td>Sheep guarding</td>\n",
       "      <td>Working</td>\n",
       "      <td>10 - 12 years</td>\n",
       "      <td>Loyal, Independent, Intelligent, Brave</td>\n",
       "      <td></td>\n",
       "      <td>26pHT3Qk7</td>\n",
       "      <td>NaN</td>\n",
       "      <td>NaN</td>\n",
       "      <td>NaN</td>\n",
       "    </tr>\n",
       "  </tbody>\n",
       "</table>\n",
       "</div>"
      ],
      "text/plain": [
       "                                          weight  \\\n",
       "0      {'imperial': '6 - 13', 'metric': '3 - 6'}   \n",
       "1   {'imperial': '50 - 60', 'metric': '23 - 27'}   \n",
       "2   {'imperial': '44 - 66', 'metric': '20 - 30'}   \n",
       "3   {'imperial': '40 - 65', 'metric': '18 - 29'}   \n",
       "4  {'imperial': '90 - 120', 'metric': '41 - 54'}   \n",
       "\n",
       "                                          height  id                 name  \\\n",
       "0  {'imperial': '9 - 11.5', 'metric': '23 - 29'}   1        Affenpinscher   \n",
       "1   {'imperial': '25 - 27', 'metric': '64 - 69'}   2         Afghan Hound   \n",
       "2             {'imperial': '30', 'metric': '76'}   3  African Hunting Dog   \n",
       "3   {'imperial': '21 - 23', 'metric': '53 - 58'}   4     Airedale Terrier   \n",
       "4   {'imperial': '28 - 34', 'metric': '71 - 86'}   5           Akbash Dog   \n",
       "\n",
       "                       bred_for breed_group      life_span  \\\n",
       "0  Small rodent hunting, lapdog         Toy  10 - 12 years   \n",
       "1          Coursing and hunting       Hound  10 - 13 years   \n",
       "2            A wild pack animal         NaN       11 years   \n",
       "3         Badger, otter hunting     Terrier  10 - 13 years   \n",
       "4                Sheep guarding     Working  10 - 12 years   \n",
       "\n",
       "                                         temperament  \\\n",
       "0  Stubborn, Curious, Playful, Adventurous, Activ...   \n",
       "1     Aloof, Clownish, Dignified, Independent, Happy   \n",
       "2                         Wild, Hardworking, Dutiful   \n",
       "3  Outgoing, Friendly, Alert, Confident, Intellig...   \n",
       "4             Loyal, Independent, Intelligent, Brave   \n",
       "\n",
       "                        origin reference_image_id country_code description  \\\n",
       "0              Germany, France          BJa4kxc4X          NaN         NaN   \n",
       "1  Afghanistan, Iran, Pakistan          hMyT4CDXR           AG         NaN   \n",
       "2                                       rkiByec47          NaN         NaN   \n",
       "3      United Kingdom, England          1-7cgoZSh          NaN         NaN   \n",
       "4                                       26pHT3Qk7          NaN         NaN   \n",
       "\n",
       "  history  \n",
       "0     NaN  \n",
       "1     NaN  \n",
       "2     NaN  \n",
       "3     NaN  \n",
       "4     NaN  "
      ]
     },
     "execution_count": 33,
     "metadata": {},
     "output_type": "execute_result"
    }
   ],
   "source": [
    "df.head()"
   ]
  },
  {
   "cell_type": "markdown",
   "id": "bdd250ce-8115-446c-b6a3-2dd884f3adbb",
   "metadata": {},
   "source": [
    "### LIMPIEZA DE DATOS "
   ]
  },
  {
   "cell_type": "code",
   "execution_count": 134,
   "id": "4fd8f472-5e50-4979-af68-155dd445738c",
   "metadata": {},
   "outputs": [
    {
     "data": {
      "text/plain": [
       "weight                0\n",
       "height                0\n",
       "id                    0\n",
       "name                  0\n",
       "bred_for              0\n",
       "breed_group           0\n",
       "life_span             0\n",
       "temperament           0\n",
       "reference_image_id    0\n",
       "dtype: int64"
      ]
     },
     "execution_count": 134,
     "metadata": {},
     "output_type": "execute_result"
    }
   ],
   "source": [
    "df.isna().sum()"
   ]
  },
  {
   "cell_type": "code",
   "execution_count": 136,
   "id": "06a43f59-2f88-474d-b64c-fecd202d8103",
   "metadata": {},
   "outputs": [],
   "source": [
    "numeros=[]\n",
    "for span in df['life_span']:\n",
    "    split=span.split()\n",
    "    numero = split[0]\n",
    "    numeros.append(numero)\n",
    "\n",
    "df['life_span']=numeros"
   ]
  },
  {
   "cell_type": "code",
   "execution_count": 138,
   "id": "3e0c9938-9e0e-4d7a-b570-98cb2aa857ed",
   "metadata": {},
   "outputs": [],
   "source": [
    "columnas_seleccionadas=['life_span','temperament']\n",
    "df=df[columnas_seleccionadas]"
   ]
  },
  {
   "cell_type": "code",
   "execution_count": 140,
   "id": "7e7b1ceb-a7ba-4747-9c74-c3787ad55686",
   "metadata": {},
   "outputs": [
    {
     "data": {
      "text/html": [
       "<div>\n",
       "<style scoped>\n",
       "    .dataframe tbody tr th:only-of-type {\n",
       "        vertical-align: middle;\n",
       "    }\n",
       "\n",
       "    .dataframe tbody tr th {\n",
       "        vertical-align: top;\n",
       "    }\n",
       "\n",
       "    .dataframe thead th {\n",
       "        text-align: right;\n",
       "    }\n",
       "</style>\n",
       "<table border=\"1\" class=\"dataframe\">\n",
       "  <thead>\n",
       "    <tr style=\"text-align: right;\">\n",
       "      <th></th>\n",
       "      <th>life_span</th>\n",
       "      <th>temperament</th>\n",
       "    </tr>\n",
       "  </thead>\n",
       "  <tbody>\n",
       "    <tr>\n",
       "      <th>0</th>\n",
       "      <td>10</td>\n",
       "      <td>Stubborn, Curious, Playful, Adventurous, Activ...</td>\n",
       "    </tr>\n",
       "    <tr>\n",
       "      <th>1</th>\n",
       "      <td>10</td>\n",
       "      <td>Aloof, Clownish, Dignified, Independent, Happy</td>\n",
       "    </tr>\n",
       "    <tr>\n",
       "      <th>3</th>\n",
       "      <td>10</td>\n",
       "      <td>Outgoing, Friendly, Alert, Confident, Intellig...</td>\n",
       "    </tr>\n",
       "    <tr>\n",
       "      <th>4</th>\n",
       "      <td>10</td>\n",
       "      <td>Loyal, Independent, Intelligent, Brave</td>\n",
       "    </tr>\n",
       "    <tr>\n",
       "      <th>5</th>\n",
       "      <td>10</td>\n",
       "      <td>Docile, Alert, Responsive, Dignified, Composed...</td>\n",
       "    </tr>\n",
       "    <tr>\n",
       "      <th>...</th>\n",
       "      <td>...</td>\n",
       "      <td>...</td>\n",
       "    </tr>\n",
       "    <tr>\n",
       "      <th>163</th>\n",
       "      <td>12</td>\n",
       "      <td>Stubborn, Friendly, Affectionate, Loyal, Playf...</td>\n",
       "    </tr>\n",
       "    <tr>\n",
       "      <th>164</th>\n",
       "      <td>15</td>\n",
       "      <td>Hardy, Friendly, Alert, Independent, Gay, Acti...</td>\n",
       "    </tr>\n",
       "    <tr>\n",
       "      <th>165</th>\n",
       "      <td>12</td>\n",
       "      <td>Friendly, Affectionate, Lively, Gentle, Intell...</td>\n",
       "    </tr>\n",
       "    <tr>\n",
       "      <th>168</th>\n",
       "      <td>12</td>\n",
       "      <td>Loyal, Gentle, Vigilant, Trainable, Proud</td>\n",
       "    </tr>\n",
       "    <tr>\n",
       "      <th>171</th>\n",
       "      <td>12</td>\n",
       "      <td>Bold, Independent, Confident, Intelligent, Cou...</td>\n",
       "    </tr>\n",
       "  </tbody>\n",
       "</table>\n",
       "<p>139 rows × 2 columns</p>\n",
       "</div>"
      ],
      "text/plain": [
       "    life_span                                        temperament\n",
       "0          10  Stubborn, Curious, Playful, Adventurous, Activ...\n",
       "1          10     Aloof, Clownish, Dignified, Independent, Happy\n",
       "3          10  Outgoing, Friendly, Alert, Confident, Intellig...\n",
       "4          10             Loyal, Independent, Intelligent, Brave\n",
       "5          10  Docile, Alert, Responsive, Dignified, Composed...\n",
       "..        ...                                                ...\n",
       "163        12  Stubborn, Friendly, Affectionate, Loyal, Playf...\n",
       "164        15  Hardy, Friendly, Alert, Independent, Gay, Acti...\n",
       "165        12  Friendly, Affectionate, Lively, Gentle, Intell...\n",
       "168        12          Loyal, Gentle, Vigilant, Trainable, Proud\n",
       "171        12  Bold, Independent, Confident, Intelligent, Cou...\n",
       "\n",
       "[139 rows x 2 columns]"
      ]
     },
     "execution_count": 140,
     "metadata": {},
     "output_type": "execute_result"
    }
   ],
   "source": [
    "df"
   ]
  },
  {
   "cell_type": "markdown",
   "id": "26d469f3-fa1e-4d0e-8ff4-fbca39fd1991",
   "metadata": {},
   "source": [
    "### VISUALIZACION"
   ]
  },
  {
   "cell_type": "code",
   "execution_count": 167,
   "id": "028b56dd-1c8d-439d-812b-bd20da501372",
   "metadata": {},
   "outputs": [],
   "source": [
    "df['life_span']=pd.to_numeric(df['life_span'])"
   ]
  },
  {
   "cell_type": "code",
   "execution_count": 169,
   "id": "127344a0-fdab-45de-b480-10b2bfd2427b",
   "metadata": {},
   "outputs": [
    {
     "data": {
      "image/png": "[encoded data removed]",
      "text/plain": [
       "<Figure size 1000x600 with 1 Axes>"
      ]
     },
     "metadata": {},
     "output_type": "display_data"
    }
   ],
   "source": [
    "plt.figure(figsize=(10,6))\n",
    "sns.histplot(df['life_span'],kde=True,bins=20)\n",
    "plt.title('Distribución de la Esperanza de Vida de las Razas de Perros')\n",
    "plt.xlabel('Esperanza de Vida (años)')\n",
    "plt.ylabel('Frecuencia');"
   ]
  }
 ],
 "metadata": {
  "kernelspec": {
   "display_name": "Python 3 (ipykernel)",
   "language": "python",
   "name": "python3"
  },
  "language_info": {
   "codemirror_mode": {
    "name": "ipython",
    "version": 3
   },
   "file_extension": ".py",
   "mimetype": "text/x-python",
   "name": "python",
   "nbconvert_exporter": "python",
   "pygments_lexer": "ipython3",
   "version": "3.12.7"
  }
 },
 "nbformat": 4,
 "nbformat_minor": 5
}
